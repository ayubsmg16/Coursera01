{
  "cells": [
    {
      "cell_type": "markdown",
      "metadata": {
        "id": "_QEupwHympAU"
      },
      "source": [
        "<center>\n",
        "    <img src=\"https://s3-api.us-geo.objectstorage.softlayer.net/cf-courses-data/CognitiveClass/Logos/organization_logo/organization_logo.png\" width=\"300\" alt=\"cognitiveclass.ai logo\"  />\n",
        "</center>\n"
      ]
    },
    {
      "cell_type": "markdown",
      "metadata": {
        "id": "TotMKLCXmpAZ"
      },
      "source": [
        "#### Add your code below following the instructions given in the course\n"
      ]
    },
    {
      "cell_type": "markdown",
      "source": [
        "# My Jupiter Notebook on IBM Watson Studio"
      ],
      "metadata": {
        "id": "nId6deSKmsu0"
      }
    },
    {
      "cell_type": "markdown",
      "source": [
        "**AYUBA SULE**\n",
        "\n",
        "Data Scientist"
      ],
      "metadata": {
        "id": "YdjLI0Mqmy9X"
      }
    },
    {
      "cell_type": "markdown",
      "source": [
        "*In my line of work we generate a lot of data, i will like to be able to expolore these data and come up with meaningful insight to help my organization optimize decision making and enhance efficincy of operations*"
      ],
      "metadata": {
        "id": "_OfYja0Qm4GD"
      }
    },
    {
      "cell_type": "markdown",
      "source": [
        "### The code below will define some variable and request to print the variables defined."
      ],
      "metadata": {
        "id": "S079QCnlnAtt"
      }
    },
    {
      "cell_type": "code",
      "execution_count": 1,
      "metadata": {
        "colab": {
          "base_uri": "https://localhost:8080/"
        },
        "id": "ZVcmEbBCmpAa",
        "outputId": "f33eb133-2c92-4cd8-dc19-7249bdcac092"
      },
      "outputs": [
        {
          "output_type": "stream",
          "name": "stdout",
          "text": [
            "x =  7\n",
            "\n",
            "y =  9\n"
          ]
        }
      ],
      "source": [
        "x=7\n",
        "y=9\n",
        "print(\"x = \",x, end='\\n\\n')\n",
        "print(\"y = \",y)"
      ]
    },
    {
      "cell_type": "markdown",
      "source": [
        "\n",
        "\n",
        "1.   **IBM**\n",
        "2.   **Coursera**\n",
        "\n",
        "\n",
        "\n",
        "*   **Phyton**\n",
        "*   **SQL**\n",
        "\n",
        "\n",
        "\n",
        "---\n",
        "\n",
        "[https://www.coursera.org]\n",
        "\n",
        "\n",
        "\n",
        "\n",
        "\n",
        "\n"
      ],
      "metadata": {
        "id": "rm-nsjDFnQVT"
      }
    }
  ],
  "metadata": {
    "kernelspec": {
      "display_name": "Python 3",
      "language": "python",
      "name": "python3"
    },
    "language_info": {
      "codemirror_mode": {
        "name": "ipython",
        "version": 3
      },
      "file_extension": ".py",
      "mimetype": "text/x-python",
      "name": "python",
      "nbconvert_exporter": "python",
      "pygments_lexer": "ipython3",
      "version": "3.7.6"
    },
    "colab": {
      "provenance": []
    }
  },
  "nbformat": 4,
  "nbformat_minor": 0
}